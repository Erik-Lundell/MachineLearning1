{
 "cells": [
  {
   "cell_type": "markdown",
   "id": "9b39b31e-c4dc-429b-a418-3ccc0839abc3",
   "metadata": {
    "tags": []
   },
   "source": [
    "#### Analysis of the phishing data set\n",
    "Prediction is too good, probably includes training set in training data somehow...\n",
    "\n",
    "Just testing out the markup, for example math expressions: <br>\n",
    "$d = \\sqrt{x_1^2 +x_2^2}$ <br>\n",
    "We start out with loading the data, setting some config variables and splitting the data"
   ]
  },
  {
   "cell_type": "code",
   "execution_count": 1,
   "id": "7d0e6d69-b0d1-4efa-bf84-ff6d6bf7abeb",
   "metadata": {},
   "outputs": [],
   "source": [
    "from random import randrange\n",
    "import pandas as pd\n",
    "import matplotlib.pyplot as plt"
   ]
  },
  {
   "cell_type": "code",
   "execution_count": 2,
   "id": "7f0c9a72-1288-4d13-9958-e0cf89b3192f",
   "metadata": {
    "jupyter": {
     "source_hidden": true
    },
    "tags": []
   },
   "outputs": [],
   "source": [
    "#Config\n",
    "evaluation_method = \"holdout\" #holdout or cross\n",
    "holdout_split = 0.8\n",
    "cross_validations = 10\n",
    "\n",
    "# Load data\n",
    "df_raw = pd.read_csv(\"data/phpV5QYya.csv\")\n",
    "\n",
    "# Preprocess\n",
    "# Data is already preprocessed - just shuffle to make sure\n",
    "df_shuffeled = df_raw.sample(frac=1,random_state=193520285)\n",
    "\n",
    "#Split data\n",
    "subsets = []\n",
    "if(evaluation_method == \"holdout\"):\n",
    "    num_learning = round(df_shuffeled.shape[0] * holdout_split)\n",
    "    subsets.append(df_shuffeled[0:num_learning-1])\n",
    "    subsets.append(df_shuffeled[num_learning:])\n",
    "    \n",
    "if(evaluation_method == \"cross\"):\n",
    "    num_per_subset = (int)(df_shuffeled.shape[0]/cross_validations)\n",
    "    residual = df_shuffeled.shape[0]%cross_validations\n",
    "\n",
    "    offset = 0\n",
    "    for i in range(cross_validations):\n",
    "        begin = num_per_subset*i+offset\n",
    "        if(offset<residual):\n",
    "            offset = offset+1\n",
    "        end = num_per_subset*(i+1)+offset\n",
    "\n",
    "        subsets.append(df_shuffeled[begin:end])"
   ]
  },
  {
   "cell_type": "markdown",
   "id": "72b7ec70-69af-4f71-9820-0929f3374914",
   "metadata": {},
   "source": [
    "First we set up the evaluation method:"
   ]
  },
  {
   "cell_type": "code",
   "execution_count": null,
   "id": "a7722473-1287-490f-90c7-782eac0448c2",
   "metadata": {},
   "outputs": [],
   "source": [
    "for row in subsets[0].iterrows():\n",
    "    x= sum(row[1][:-1])\n",
    "    #print(x)"
   ]
  },
  {
   "cell_type": "code",
   "execution_count": 39,
   "id": "47669034-3d13-46f3-b327-530591c5a706",
   "metadata": {},
   "outputs": [],
   "source": [
    "def evaluate(model):\n",
    "    print(f\"Evaluating with method: {evaluation_method}\")\n",
    "    \n",
    "    if(evaluation_method==\"holdout\"):\n",
    "        model.train(subsets[0])\n",
    "        \n",
    "        tp = 0\n",
    "        tn = 0\n",
    "        fp = 0\n",
    "        fn = 0\n",
    "        for row in subsets[1].iterrows():\n",
    "            instance = row[1]\n",
    "            pred = model.predict(instance)\n",
    "            \n",
    "            if(instance['Result']==1):\n",
    "                if(pred==1):\n",
    "                    tp = tp+1\n",
    "                if(pred==-1):\n",
    "                    fn = fn+1\n",
    "            if(instance['Result']==-1):\n",
    "                if(pred==1):\n",
    "                    fp = fp+1\n",
    "                if(pred==-1):\n",
    "                    tn = tn+1\n",
    "                \n",
    "            print(f\"sens: {(tp/(tp+fn))}, acc: { (tp+tn)/(tp+tn+fp+fn)}\")\n",
    "        return (tp/(tp+fn)), (tp+tn)/(tp+tn+fp+fn)\n",
    "                \n",
    "        "
   ]
  },
  {
   "cell_type": "code",
   "execution_count": 31,
   "id": "7569317f-55c8-4508-b074-60d528dd7f14",
   "metadata": {},
   "outputs": [],
   "source": [
    "#Assumes last element in each row is the target\n",
    "#Assumes classes = {1 (=phising), -1(=safe)}\n",
    "\n",
    "class kNN:\n",
    "    def __init__(self, k):\n",
    "        self.k = k\n",
    "        \n",
    "    def train(self, data):\n",
    "        #Just save the entire dataset\n",
    "        self.data = data\n",
    "        \n",
    "    def predict(self, instance):\n",
    "        #neighbours is list of tuple( target_vote, distance )\n",
    "        #Sorted smallest distance -> highest\n",
    "        neighbours = []\n",
    "        \n",
    "        #Compare instance to every element in data set\n",
    "        for row in self.data.iterrows():\n",
    "            element = row[1]\n",
    "            \n",
    "            #Calculate distance from instance to element\n",
    "            dist = sum((instance[:-1] - element[:-1]).abs())\n",
    "            \n",
    "            #If first element, just add \n",
    "            if(len(neighbours)==0):\n",
    "                neighbours.append((element['Result'], dist))\n",
    "            else:\n",
    "                \n",
    "                for i, n in enumerate(neighbours):\n",
    "                    #If the calculated distance is shorter than compared neighbour, insert _before_ this neighbour\n",
    "                    if(dist<n[1]):\n",
    "                        neighbours.insert(i,(element['Result'],dist))\n",
    "                        \n",
    "                    #If we have to many neighbours, remove last one in list (with highest distance)\n",
    "                    if(len(neighbours)>self.k):\n",
    "                        del neighbours[-1]\n",
    "             \n",
    "        #Perform count of each class (1 or -1)\n",
    "        phis_count = 0\n",
    "        safe_count = 0\n",
    "        for n in neighbours:\n",
    "            if(n[0]==1):\n",
    "                phis_count = phis_count + 1\n",
    "            if(n[0]==-1):\n",
    "                safe_count = safe_count + 1\n",
    "        \n",
    "        #Return \n",
    "        if (phis_count >= safe_count):\n",
    "            return 1\n",
    "        else: \n",
    "            return -1\n",
    "    \n",
    "    "
   ]
  },
  {
   "cell_type": "code",
   "execution_count": 40,
   "id": "09e34850-0701-4cc6-952c-9d187de818ba",
   "metadata": {
    "tags": []
   },
   "outputs": [
    {
     "name": "stdout",
     "output_type": "stream",
     "text": [
      "hello\n",
      "Evaluating with method: holdout\n",
      "sens: 1.0, acc: 1.0\n",
      "sens: 1.0, acc: 1.0\n",
      "sens: 1.0, acc: 1.0\n",
      "sens: 1.0, acc: 1.0\n",
      "sens: 1.0, acc: 1.0\n",
      "sens: 1.0, acc: 1.0\n",
      "sens: 1.0, acc: 1.0\n",
      "sens: 1.0, acc: 1.0\n",
      "sens: 1.0, acc: 1.0\n",
      "sens: 1.0, acc: 1.0\n",
      "sens: 1.0, acc: 1.0\n",
      "sens: 1.0, acc: 1.0\n",
      "sens: 1.0, acc: 1.0\n",
      "sens: 1.0, acc: 1.0\n",
      "sens: 1.0, acc: 1.0\n",
      "sens: 1.0, acc: 1.0\n",
      "sens: 1.0, acc: 1.0\n",
      "sens: 1.0, acc: 1.0\n",
      "sens: 1.0, acc: 1.0\n",
      "sens: 1.0, acc: 1.0\n",
      "sens: 1.0, acc: 1.0\n",
      "sens: 1.0, acc: 1.0\n",
      "sens: 1.0, acc: 1.0\n",
      "sens: 1.0, acc: 1.0\n",
      "sens: 1.0, acc: 1.0\n",
      "sens: 1.0, acc: 1.0\n",
      "sens: 1.0, acc: 1.0\n",
      "sens: 1.0, acc: 1.0\n",
      "sens: 1.0, acc: 1.0\n",
      "sens: 1.0, acc: 1.0\n",
      "sens: 1.0, acc: 1.0\n",
      "sens: 1.0, acc: 1.0\n",
      "sens: 1.0, acc: 1.0\n",
      "sens: 1.0, acc: 1.0\n",
      "sens: 1.0, acc: 1.0\n",
      "sens: 1.0, acc: 1.0\n",
      "sens: 1.0, acc: 1.0\n",
      "sens: 1.0, acc: 1.0\n",
      "sens: 1.0, acc: 1.0\n",
      "sens: 1.0, acc: 1.0\n",
      "sens: 1.0, acc: 1.0\n",
      "sens: 1.0, acc: 1.0\n",
      "sens: 1.0, acc: 1.0\n",
      "sens: 1.0, acc: 1.0\n",
      "sens: 1.0, acc: 1.0\n",
      "sens: 1.0, acc: 1.0\n",
      "sens: 1.0, acc: 1.0\n",
      "sens: 1.0, acc: 1.0\n",
      "sens: 1.0, acc: 1.0\n",
      "sens: 1.0, acc: 1.0\n",
      "sens: 1.0, acc: 1.0\n",
      "sens: 1.0, acc: 1.0\n",
      "sens: 1.0, acc: 1.0\n",
      "sens: 1.0, acc: 1.0\n"
     ]
    },
    {
     "ename": "KeyboardInterrupt",
     "evalue": "",
     "output_type": "error",
     "traceback": [
      "\u001b[1;31m---------------------------------------------------------------------------\u001b[0m",
      "\u001b[1;31mKeyboardInterrupt\u001b[0m                         Traceback (most recent call last)",
      "Input \u001b[1;32mIn [40]\u001b[0m, in \u001b[0;36m<cell line: 5>\u001b[1;34m()\u001b[0m\n\u001b[0;32m      1\u001b[0m \u001b[38;5;28mprint\u001b[39m(\u001b[38;5;124m\"\u001b[39m\u001b[38;5;124mhello\u001b[39m\u001b[38;5;124m\"\u001b[39m)\n\u001b[0;32m      3\u001b[0m kNN3 \u001b[38;5;241m=\u001b[39m kNN(\u001b[38;5;241m3\u001b[39m)\n\u001b[1;32m----> 5\u001b[0m result \u001b[38;5;241m=\u001b[39m \u001b[43mevaluate\u001b[49m\u001b[43m(\u001b[49m\u001b[43mkNN3\u001b[49m\u001b[43m)\u001b[49m\n\u001b[0;32m      7\u001b[0m \u001b[38;5;28mprint\u001b[39m(result)\n\u001b[0;32m      8\u001b[0m \u001b[38;5;28mprint\u001b[39m(\u001b[38;5;124mf\u001b[39m\u001b[38;5;124m\"\u001b[39m\u001b[38;5;124mAccuarcy: \u001b[39m\u001b[38;5;132;01m{\u001b[39;00mresult[\u001b[38;5;241m1\u001b[39m]\u001b[38;5;132;01m}\u001b[39;00m\u001b[38;5;124m, sensitivity: \u001b[39m\u001b[38;5;132;01m{\u001b[39;00mresult[\u001b[38;5;241m0\u001b[39m]\u001b[38;5;132;01m}\u001b[39;00m\u001b[38;5;124m\"\u001b[39m)\n",
      "Input \u001b[1;32mIn [39]\u001b[0m, in \u001b[0;36mevaluate\u001b[1;34m(model)\u001b[0m\n\u001b[0;32m     11\u001b[0m \u001b[38;5;28;01mfor\u001b[39;00m row \u001b[38;5;129;01min\u001b[39;00m subsets[\u001b[38;5;241m1\u001b[39m]\u001b[38;5;241m.\u001b[39miterrows():\n\u001b[0;32m     12\u001b[0m     instance \u001b[38;5;241m=\u001b[39m row[\u001b[38;5;241m1\u001b[39m]\n\u001b[1;32m---> 13\u001b[0m     pred \u001b[38;5;241m=\u001b[39m \u001b[43mmodel\u001b[49m\u001b[38;5;241;43m.\u001b[39;49m\u001b[43mpredict\u001b[49m\u001b[43m(\u001b[49m\u001b[43minstance\u001b[49m\u001b[43m)\u001b[49m\n\u001b[0;32m     15\u001b[0m     \u001b[38;5;28;01mif\u001b[39;00m(instance[\u001b[38;5;124m'\u001b[39m\u001b[38;5;124mResult\u001b[39m\u001b[38;5;124m'\u001b[39m]\u001b[38;5;241m==\u001b[39m\u001b[38;5;241m1\u001b[39m):\n\u001b[0;32m     16\u001b[0m         \u001b[38;5;28;01mif\u001b[39;00m(pred\u001b[38;5;241m==\u001b[39m\u001b[38;5;241m1\u001b[39m):\n",
      "Input \u001b[1;32mIn [31]\u001b[0m, in \u001b[0;36mkNN.predict\u001b[1;34m(self, instance)\u001b[0m\n\u001b[0;32m     19\u001b[0m element \u001b[38;5;241m=\u001b[39m row[\u001b[38;5;241m1\u001b[39m]\n\u001b[0;32m     21\u001b[0m \u001b[38;5;66;03m#Calculate distance from instance to element\u001b[39;00m\n\u001b[1;32m---> 22\u001b[0m dist \u001b[38;5;241m=\u001b[39m \u001b[38;5;28msum\u001b[39m((\u001b[43minstance\u001b[49m\u001b[43m[\u001b[49m\u001b[43m:\u001b[49m\u001b[38;5;241;43m-\u001b[39;49m\u001b[38;5;241;43m1\u001b[39;49m\u001b[43m]\u001b[49m\u001b[43m \u001b[49m\u001b[38;5;241;43m-\u001b[39;49m\u001b[43m \u001b[49m\u001b[43melement\u001b[49m\u001b[43m[\u001b[49m\u001b[43m:\u001b[49m\u001b[38;5;241;43m-\u001b[39;49m\u001b[38;5;241;43m1\u001b[39;49m\u001b[43m]\u001b[49m)\u001b[38;5;241m.\u001b[39mabs())\n\u001b[0;32m     24\u001b[0m \u001b[38;5;66;03m#If first element, just add \u001b[39;00m\n\u001b[0;32m     25\u001b[0m \u001b[38;5;28;01mif\u001b[39;00m(\u001b[38;5;28mlen\u001b[39m(neighbours)\u001b[38;5;241m==\u001b[39m\u001b[38;5;241m0\u001b[39m):\n",
      "File \u001b[1;32m~\\.virtualenvs\\MachineLearning1-oujsJ_SF\\lib\\site-packages\\pandas\\core\\ops\\common.py:70\u001b[0m, in \u001b[0;36m_unpack_zerodim_and_defer.<locals>.new_method\u001b[1;34m(self, other)\u001b[0m\n\u001b[0;32m     66\u001b[0m             \u001b[38;5;28;01mreturn\u001b[39;00m \u001b[38;5;28mNotImplemented\u001b[39m\n\u001b[0;32m     68\u001b[0m other \u001b[38;5;241m=\u001b[39m item_from_zerodim(other)\n\u001b[1;32m---> 70\u001b[0m \u001b[38;5;28;01mreturn\u001b[39;00m \u001b[43mmethod\u001b[49m\u001b[43m(\u001b[49m\u001b[38;5;28;43mself\u001b[39;49m\u001b[43m,\u001b[49m\u001b[43m \u001b[49m\u001b[43mother\u001b[49m\u001b[43m)\u001b[49m\n",
      "File \u001b[1;32m~\\.virtualenvs\\MachineLearning1-oujsJ_SF\\lib\\site-packages\\pandas\\core\\arraylike.py:108\u001b[0m, in \u001b[0;36mOpsMixin.__sub__\u001b[1;34m(self, other)\u001b[0m\n\u001b[0;32m    106\u001b[0m \u001b[38;5;129m@unpack_zerodim_and_defer\u001b[39m(\u001b[38;5;124m\"\u001b[39m\u001b[38;5;124m__sub__\u001b[39m\u001b[38;5;124m\"\u001b[39m)\n\u001b[0;32m    107\u001b[0m \u001b[38;5;28;01mdef\u001b[39;00m \u001b[38;5;21m__sub__\u001b[39m(\u001b[38;5;28mself\u001b[39m, other):\n\u001b[1;32m--> 108\u001b[0m     \u001b[38;5;28;01mreturn\u001b[39;00m \u001b[38;5;28;43mself\u001b[39;49m\u001b[38;5;241;43m.\u001b[39;49m\u001b[43m_arith_method\u001b[49m\u001b[43m(\u001b[49m\u001b[43mother\u001b[49m\u001b[43m,\u001b[49m\u001b[43m \u001b[49m\u001b[43moperator\u001b[49m\u001b[38;5;241;43m.\u001b[39;49m\u001b[43msub\u001b[49m\u001b[43m)\u001b[49m\n",
      "File \u001b[1;32m~\\.virtualenvs\\MachineLearning1-oujsJ_SF\\lib\\site-packages\\pandas\\core\\series.py:5639\u001b[0m, in \u001b[0;36mSeries._arith_method\u001b[1;34m(self, other, op)\u001b[0m\n\u001b[0;32m   5637\u001b[0m \u001b[38;5;28;01mdef\u001b[39;00m \u001b[38;5;21m_arith_method\u001b[39m(\u001b[38;5;28mself\u001b[39m, other, op):\n\u001b[0;32m   5638\u001b[0m     \u001b[38;5;28mself\u001b[39m, other \u001b[38;5;241m=\u001b[39m ops\u001b[38;5;241m.\u001b[39malign_method_SERIES(\u001b[38;5;28mself\u001b[39m, other)\n\u001b[1;32m-> 5639\u001b[0m     \u001b[38;5;28;01mreturn\u001b[39;00m \u001b[43mbase\u001b[49m\u001b[38;5;241;43m.\u001b[39;49m\u001b[43mIndexOpsMixin\u001b[49m\u001b[38;5;241;43m.\u001b[39;49m\u001b[43m_arith_method\u001b[49m\u001b[43m(\u001b[49m\u001b[38;5;28;43mself\u001b[39;49m\u001b[43m,\u001b[49m\u001b[43m \u001b[49m\u001b[43mother\u001b[49m\u001b[43m,\u001b[49m\u001b[43m \u001b[49m\u001b[43mop\u001b[49m\u001b[43m)\u001b[49m\n",
      "File \u001b[1;32m~\\.virtualenvs\\MachineLearning1-oujsJ_SF\\lib\\site-packages\\pandas\\core\\base.py:1297\u001b[0m, in \u001b[0;36mIndexOpsMixin._arith_method\u001b[1;34m(self, other, op)\u001b[0m\n\u001b[0;32m   1294\u001b[0m \u001b[38;5;28;01mwith\u001b[39;00m np\u001b[38;5;241m.\u001b[39merrstate(\u001b[38;5;28mall\u001b[39m\u001b[38;5;241m=\u001b[39m\u001b[38;5;124m\"\u001b[39m\u001b[38;5;124mignore\u001b[39m\u001b[38;5;124m\"\u001b[39m):\n\u001b[0;32m   1295\u001b[0m     result \u001b[38;5;241m=\u001b[39m ops\u001b[38;5;241m.\u001b[39marithmetic_op(lvalues, rvalues, op)\n\u001b[1;32m-> 1297\u001b[0m \u001b[38;5;28;01mreturn\u001b[39;00m \u001b[38;5;28;43mself\u001b[39;49m\u001b[38;5;241;43m.\u001b[39;49m\u001b[43m_construct_result\u001b[49m\u001b[43m(\u001b[49m\u001b[43mresult\u001b[49m\u001b[43m,\u001b[49m\u001b[43m \u001b[49m\u001b[43mname\u001b[49m\u001b[38;5;241;43m=\u001b[39;49m\u001b[43mres_name\u001b[49m\u001b[43m)\u001b[49m\n",
      "File \u001b[1;32m~\\.virtualenvs\\MachineLearning1-oujsJ_SF\\lib\\site-packages\\pandas\\core\\series.py:3017\u001b[0m, in \u001b[0;36mSeries._construct_result\u001b[1;34m(self, result, name)\u001b[0m\n\u001b[0;32m   3013\u001b[0m     \u001b[38;5;28;01mreturn\u001b[39;00m (res1, res2)\n\u001b[0;32m   3015\u001b[0m \u001b[38;5;66;03m# We do not pass dtype to ensure that the Series constructor\u001b[39;00m\n\u001b[0;32m   3016\u001b[0m \u001b[38;5;66;03m#  does inference in the case where `result` has object-dtype.\u001b[39;00m\n\u001b[1;32m-> 3017\u001b[0m out \u001b[38;5;241m=\u001b[39m \u001b[38;5;28;43mself\u001b[39;49m\u001b[38;5;241;43m.\u001b[39;49m\u001b[43m_constructor\u001b[49m\u001b[43m(\u001b[49m\u001b[43mresult\u001b[49m\u001b[43m,\u001b[49m\u001b[43m \u001b[49m\u001b[43mindex\u001b[49m\u001b[38;5;241;43m=\u001b[39;49m\u001b[38;5;28;43mself\u001b[39;49m\u001b[38;5;241;43m.\u001b[39;49m\u001b[43mindex\u001b[49m\u001b[43m)\u001b[49m\n\u001b[0;32m   3018\u001b[0m out \u001b[38;5;241m=\u001b[39m out\u001b[38;5;241m.\u001b[39m__finalize__(\u001b[38;5;28mself\u001b[39m)\n\u001b[0;32m   3020\u001b[0m \u001b[38;5;66;03m# Set the result's name after __finalize__ is called because __finalize__\u001b[39;00m\n\u001b[0;32m   3021\u001b[0m \u001b[38;5;66;03m#  would set it back to self.name\u001b[39;00m\n",
      "File \u001b[1;32m~\\.virtualenvs\\MachineLearning1-oujsJ_SF\\lib\\site-packages\\pandas\\core\\series.py:451\u001b[0m, in \u001b[0;36mSeries.__init__\u001b[1;34m(self, data, index, dtype, name, copy, fastpath)\u001b[0m\n\u001b[0;32m    449\u001b[0m         data \u001b[38;5;241m=\u001b[39m data\u001b[38;5;241m.\u001b[39mcopy()\n\u001b[0;32m    450\u001b[0m \u001b[38;5;28;01melse\u001b[39;00m:\n\u001b[1;32m--> 451\u001b[0m     data \u001b[38;5;241m=\u001b[39m \u001b[43msanitize_array\u001b[49m\u001b[43m(\u001b[49m\u001b[43mdata\u001b[49m\u001b[43m,\u001b[49m\u001b[43m \u001b[49m\u001b[43mindex\u001b[49m\u001b[43m,\u001b[49m\u001b[43m \u001b[49m\u001b[43mdtype\u001b[49m\u001b[43m,\u001b[49m\u001b[43m \u001b[49m\u001b[43mcopy\u001b[49m\u001b[43m)\u001b[49m\n\u001b[0;32m    453\u001b[0m     manager \u001b[38;5;241m=\u001b[39m get_option(\u001b[38;5;124m\"\u001b[39m\u001b[38;5;124mmode.data_manager\u001b[39m\u001b[38;5;124m\"\u001b[39m)\n\u001b[0;32m    454\u001b[0m     \u001b[38;5;28;01mif\u001b[39;00m manager \u001b[38;5;241m==\u001b[39m \u001b[38;5;124m\"\u001b[39m\u001b[38;5;124mblock\u001b[39m\u001b[38;5;124m\"\u001b[39m:\n",
      "File \u001b[1;32m~\\.virtualenvs\\MachineLearning1-oujsJ_SF\\lib\\site-packages\\pandas\\core\\construction.py:567\u001b[0m, in \u001b[0;36msanitize_array\u001b[1;34m(data, index, dtype, copy, raise_cast_failure, allow_2d)\u001b[0m\n\u001b[0;32m    564\u001b[0m             subarr \u001b[38;5;241m=\u001b[39m np\u001b[38;5;241m.\u001b[39marray(data, copy\u001b[38;5;241m=\u001b[39mcopy)\n\u001b[0;32m    565\u001b[0m     \u001b[38;5;28;01melse\u001b[39;00m:\n\u001b[0;32m    566\u001b[0m         \u001b[38;5;66;03m# we will try to copy by-definition here\u001b[39;00m\n\u001b[1;32m--> 567\u001b[0m         subarr \u001b[38;5;241m=\u001b[39m \u001b[43m_try_cast\u001b[49m\u001b[43m(\u001b[49m\u001b[43mdata\u001b[49m\u001b[43m,\u001b[49m\u001b[43m \u001b[49m\u001b[43mdtype\u001b[49m\u001b[43m,\u001b[49m\u001b[43m \u001b[49m\u001b[43mcopy\u001b[49m\u001b[43m,\u001b[49m\u001b[43m \u001b[49m\u001b[43mraise_cast_failure\u001b[49m\u001b[43m)\u001b[49m\n\u001b[0;32m    569\u001b[0m \u001b[38;5;28;01melif\u001b[39;00m \u001b[38;5;28misinstance\u001b[39m(data, ABCExtensionArray):\n\u001b[0;32m    570\u001b[0m     \u001b[38;5;66;03m# it is already ensured above this is not a PandasArray\u001b[39;00m\n\u001b[0;32m    571\u001b[0m     subarr \u001b[38;5;241m=\u001b[39m data\n",
      "File \u001b[1;32m~\\.virtualenvs\\MachineLearning1-oujsJ_SF\\lib\\site-packages\\pandas\\core\\construction.py:726\u001b[0m, in \u001b[0;36m_try_cast\u001b[1;34m(arr, dtype, copy, raise_cast_failure)\u001b[0m\n\u001b[0;32m    724\u001b[0m arr \u001b[38;5;241m=\u001b[39m cast(np\u001b[38;5;241m.\u001b[39mndarray, arr)\n\u001b[0;32m    725\u001b[0m \u001b[38;5;28;01mif\u001b[39;00m arr\u001b[38;5;241m.\u001b[39mdtype \u001b[38;5;241m!=\u001b[39m \u001b[38;5;28mobject\u001b[39m:\n\u001b[1;32m--> 726\u001b[0m     \u001b[38;5;28;01mreturn\u001b[39;00m \u001b[43msanitize_to_nanoseconds\u001b[49m\u001b[43m(\u001b[49m\u001b[43marr\u001b[49m\u001b[43m,\u001b[49m\u001b[43m \u001b[49m\u001b[43mcopy\u001b[49m\u001b[38;5;241;43m=\u001b[39;49m\u001b[43mcopy\u001b[49m\u001b[43m)\u001b[49m\n\u001b[0;32m    728\u001b[0m out \u001b[38;5;241m=\u001b[39m maybe_infer_to_datetimelike(arr)\n\u001b[0;32m    729\u001b[0m \u001b[38;5;28;01mif\u001b[39;00m out \u001b[38;5;129;01mis\u001b[39;00m arr \u001b[38;5;129;01mand\u001b[39;00m copy:\n",
      "File \u001b[1;32m~\\.virtualenvs\\MachineLearning1-oujsJ_SF\\lib\\site-packages\\pandas\\core\\dtypes\\cast.py:1716\u001b[0m, in \u001b[0;36msanitize_to_nanoseconds\u001b[1;34m(values, copy)\u001b[0m\n\u001b[0;32m   1712\u001b[0m \u001b[38;5;124;03m\"\"\"\u001b[39;00m\n\u001b[0;32m   1713\u001b[0m \u001b[38;5;124;03mSafely convert non-nanosecond datetime64 or timedelta64 values to nanosecond.\u001b[39;00m\n\u001b[0;32m   1714\u001b[0m \u001b[38;5;124;03m\"\"\"\u001b[39;00m\n\u001b[0;32m   1715\u001b[0m dtype \u001b[38;5;241m=\u001b[39m values\u001b[38;5;241m.\u001b[39mdtype\n\u001b[1;32m-> 1716\u001b[0m \u001b[38;5;28;01mif\u001b[39;00m \u001b[43mdtype\u001b[49m\u001b[38;5;241;43m.\u001b[39;49m\u001b[43mkind\u001b[49m \u001b[38;5;241m==\u001b[39m \u001b[38;5;124m\"\u001b[39m\u001b[38;5;124mM\u001b[39m\u001b[38;5;124m\"\u001b[39m \u001b[38;5;129;01mand\u001b[39;00m dtype \u001b[38;5;241m!=\u001b[39m DT64NS_DTYPE:\n\u001b[0;32m   1717\u001b[0m     values \u001b[38;5;241m=\u001b[39m conversion\u001b[38;5;241m.\u001b[39mensure_datetime64ns(values)\n\u001b[0;32m   1719\u001b[0m \u001b[38;5;28;01melif\u001b[39;00m dtype\u001b[38;5;241m.\u001b[39mkind \u001b[38;5;241m==\u001b[39m \u001b[38;5;124m\"\u001b[39m\u001b[38;5;124mm\u001b[39m\u001b[38;5;124m\"\u001b[39m \u001b[38;5;129;01mand\u001b[39;00m dtype \u001b[38;5;241m!=\u001b[39m TD64NS_DTYPE:\n",
      "\u001b[1;31mKeyboardInterrupt\u001b[0m: "
     ]
    }
   ],
   "source": [
    "print(\"hello\")\n",
    "\n",
    "kNN3 = kNN(3)\n",
    "\n",
    "result = evaluate(kNN3)\n",
    "\n",
    "print(result)\n",
    "print(f\"Accuarcy: {result[1]}, sensitivity: {result[0]}\")"
   ]
  },
  {
   "cell_type": "code",
   "execution_count": null,
   "id": "9852a827-33d5-4ff8-b2dc-102fd9afebd8",
   "metadata": {},
   "outputs": [],
   "source": []
  },
  {
   "cell_type": "code",
   "execution_count": null,
   "id": "05fdbb90-8169-440c-b446-f450f8309b23",
   "metadata": {},
   "outputs": [],
   "source": []
  }
 ],
 "metadata": {
  "kernelspec": {
   "display_name": "Python 3 (ipykernel)",
   "language": "python",
   "name": "python3"
  },
  "language_info": {
   "codemirror_mode": {
    "name": "ipython",
    "version": 3
   },
   "file_extension": ".py",
   "mimetype": "text/x-python",
   "name": "python",
   "nbconvert_exporter": "python",
   "pygments_lexer": "ipython3",
   "version": "3.9.1"
  }
 },
 "nbformat": 4,
 "nbformat_minor": 5
}
