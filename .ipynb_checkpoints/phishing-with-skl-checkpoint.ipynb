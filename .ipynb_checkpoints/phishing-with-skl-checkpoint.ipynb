{
 "cells": [
  {
   "cell_type": "markdown",
   "id": "a8ac724d-1105-4e4c-92b4-a0f2c1a76eb6",
   "metadata": {},
   "source": [
    "# Phishing dataset\n",
    "### What to test\n",
    "##### For all methods:\n",
    "- Metric: precision, accuracy\n",
    "- holdout, cross-Validation (mean)\n",
    "\n",
    "##### Methods:\n",
    "- kNN(2-5), L1 and L2 norm\n",
    "- Random forest (num trees = ???) (https://scikit-learn.org/stable/modules/generated/sklearn.ensemble.RandomForestClassifier.html?highlight=random%20forest#sklearn.ensemble.RandomForestClassifier) https://mljar.com/blog/how-many-trees-in-random-forest/\n",
    " - naive bayes (https://scikit-learn.org/stable/modules/classes.html?highlight=naive%20bayes#module-sklearn.naive_bayes)\n",
    "    \n",
    " ### Structure\n",
    " One function to get training + test sets depending on holdout or cross-validation <br>\n",
    " One function to train and test for all data splits for a given model <br>\n",
    "     *Returns (mean) precision, accuracy for holdout/ cross-validation. <br>\n",
    "     \n",
    " One cell for each method"
   ]
  },
  {
   "cell_type": "code",
   "execution_count": 56,
   "id": "d48f06c9-b14f-477c-9ca6-4f4a02a2bbe5",
   "metadata": {},
   "outputs": [],
   "source": [
    "import pandas as pd\n",
    "import numpy as np\n",
    "import matplotlib.pyplot as plt\n",
    "import matplotlib.axis as axis\n",
    "import time\n",
    "\n",
    "import sklearn as skl\n",
    "from sklearn.neighbors import KNeighborsClassifier as kNN\n",
    "from sklearn.naive_bayes import CategoricalNB\n",
    "\n",
    "#load data, shuffle and separate parameters from labels\n",
    "df_raw = pd.read_csv(\"data/phpV5QYya.csv\")\n",
    "df_shuffeled = df_raw.sample(frac=1,random_state=193520285)\n",
    "scaler = skl.preprocessing.MinMaxScaler()\n",
    "scaler.fit(df_shuffeled)\n",
    "df_shuffeled = scaler.transform(df_shuffeled)\n",
    "\n",
    "X = df_shuffeled[:,:-1]\n",
    "Y = df_shuffeled[:,-1:]\n",
    "\n",
    "#Create splits\n",
    "cross_validator10 = skl.model_selection.StratifiedKFold(n_splits=10)\n",
    "hX_train, hX_test, hY_train, hY_test = skl.model_selection.train_test_split(X,Y, test_size=0.2)"
   ]
  },
  {
   "cell_type": "markdown",
   "id": "ebb82772-f058-4f16-8e05-fcba8112430b",
   "metadata": {},
   "source": [
    "## Prepare evaluation functions "
   ]
  },
  {
   "cell_type": "code",
   "execution_count": 63,
   "id": "1a92346d-5ebc-4a02-a0a5-4cb2fa59f28d",
   "metadata": {},
   "outputs": [],
   "source": [
    "def evaluateModelFromDataset(model, X_train, Y_train, X_test, Y_test):\n",
    "    start = time.time()\n",
    "    \n",
    "    model.fit(X_train, Y_train)\n",
    "    Y_pred = model.predict(X_test)\n",
    "    \n",
    "    delta = time.time()-start\n",
    "    \n",
    "    report = skl.metrics.classification_report(Y_test,Y_pred, output_dict=True)\n",
    "    \n",
    "    #Reports precision of phishing links, total accuracy and the time delta fitting and classifying took\n",
    "    return report['1.0']['precision'], report['accuracy'], delta\n",
    "\n",
    "def evaluateModel(model, do_print = True):\n",
    "\n",
    "    #Test holdout\n",
    "    holdout_rep = evaluateModelFromDataset(model, hX_train, hY_train.flatten(), hX_test, hY_test)\n",
    "    \n",
    "    #Test cross-evaluation\n",
    "    report_precision = []\n",
    "    report_accuracy  = []\n",
    "    report_time = []\n",
    "    for train_index, test_index in cross_validator10.split(X,Y):\n",
    "        X_train = X[train_index]\n",
    "        Y_train = Y[train_index]\n",
    "        X_test  = X[test_index]\n",
    "        Y_test  = Y[test_index]\n",
    "        \n",
    "        rep = evaluateModelFromDataset(model, X_train, Y_train.flatten(), X_test, Y_test)\n",
    "        report_precision.append(rep[0])\n",
    "        report_accuracy.append(rep[1])\n",
    "        report_time.append(rep[2])\n",
    "    \n",
    "    if(do_print):\n",
    "        print(f\"Holdout precision: {holdout_rep[0]}, accuracy: {holdout_rep[1]}\")\n",
    "        print(f\"Cross-evaluation average precision: {np.mean(report_precision)}, std: {np.std(report_precision)}\")\n",
    "        print(f\"Cross-evaluation average accuracy: {np.mean(report_accuracy)}, std: {np.std(report_accuracy)}\")\n",
    "        print(f\"Holdout time: {holdout_rep[2]}, cross-evaluation mean time: {np.mean(report_time)}\")\n",
    "    return [holdout_rep[0], np.mean(report_precision)], [holdout_rep[1], np.mean(report_accuracy)], [holdout_rep[2], np.mean(report_time)]"
   ]
  },
  {
   "cell_type": "markdown",
   "id": "499e7dc9-d02c-4ceb-aacb-0b472229669d",
   "metadata": {},
   "source": [
    "## kNN"
   ]
  },
  {
   "cell_type": "code",
   "execution_count": 64,
   "id": "b4818793-c56f-4dd7-9faa-d3dc431574b9",
   "metadata": {},
   "outputs": [
    {
     "name": "stdout",
     "output_type": "stream",
     "text": [
      "-- k=2, L1 --\n",
      "Input data type: <class 'numpy.ndarray'>\n",
      "Input data type: <class 'numpy.ndarray'>\n",
      "Input data type: <class 'numpy.ndarray'>\n",
      "Input data type: <class 'numpy.ndarray'>\n",
      "Input data type: <class 'numpy.ndarray'>\n",
      "Input data type: <class 'numpy.ndarray'>\n",
      "Input data type: <class 'numpy.ndarray'>\n",
      "Input data type: <class 'numpy.ndarray'>\n",
      "Input data type: <class 'numpy.ndarray'>\n",
      "Input data type: <class 'numpy.ndarray'>\n",
      "Input data type: <class 'numpy.ndarray'>\n",
      "Holdout precision: 0.9697224558452481, accuracy: 0.9488919041157847\n",
      "Cross-evaluation average precision: 0.9765457624604489, std: 0.003104173758146621\n",
      "Cross-evaluation average accuracy: 0.9577572762308428, std: 0.006444423509748466\n",
      "Holdout time: 0.48600268363952637, cross-evaluation mean time: 0.24859585762023925\n",
      "-- k=2, L2 --\n",
      "Input data type: <class 'numpy.ndarray'>\n",
      "Input data type: <class 'numpy.ndarray'>\n",
      "Input data type: <class 'numpy.ndarray'>\n",
      "Input data type: <class 'numpy.ndarray'>\n",
      "Input data type: <class 'numpy.ndarray'>\n",
      "Input data type: <class 'numpy.ndarray'>\n",
      "Input data type: <class 'numpy.ndarray'>\n",
      "Input data type: <class 'numpy.ndarray'>\n",
      "Input data type: <class 'numpy.ndarray'>\n",
      "Input data type: <class 'numpy.ndarray'>\n",
      "Input data type: <class 'numpy.ndarray'>\n",
      "Holdout precision: 0.9676320272572402, accuracy: 0.9402985074626866\n",
      "Cross-evaluation average precision: 0.9763750476628271, std: 0.003986868023437379\n",
      "Cross-evaluation average accuracy: 0.9498877369837906, std: 0.004833689603970898\n",
      "Holdout time: 0.27498412132263184, cross-evaluation mean time: 0.15739984512329103\n",
      "-- k=3, L1 --\n",
      "Input data type: <class 'numpy.ndarray'>\n",
      "Input data type: <class 'numpy.ndarray'>\n",
      "Input data type: <class 'numpy.ndarray'>\n",
      "Input data type: <class 'numpy.ndarray'>\n",
      "Input data type: <class 'numpy.ndarray'>\n",
      "Input data type: <class 'numpy.ndarray'>\n",
      "Input data type: <class 'numpy.ndarray'>\n",
      "Input data type: <class 'numpy.ndarray'>\n",
      "Input data type: <class 'numpy.ndarray'>\n",
      "Input data type: <class 'numpy.ndarray'>\n",
      "Input data type: <class 'numpy.ndarray'>\n",
      "Holdout precision: 0.9559294871794872, accuracy: 0.95838986883763\n",
      "Cross-evaluation average precision: 0.9551594972656204, std: 0.004244937334269767\n",
      "Cross-evaluation average accuracy: 0.9589330922242315, std: 0.00444778876962642\n",
      "Holdout time: 0.45697784423828125, cross-evaluation mean time: 0.26249446868896487\n",
      "-- k=3, L2 --\n",
      "Input data type: <class 'numpy.ndarray'>\n",
      "Input data type: <class 'numpy.ndarray'>\n",
      "Input data type: <class 'numpy.ndarray'>\n",
      "Input data type: <class 'numpy.ndarray'>\n",
      "Input data type: <class 'numpy.ndarray'>\n",
      "Input data type: <class 'numpy.ndarray'>\n",
      "Input data type: <class 'numpy.ndarray'>\n",
      "Input data type: <class 'numpy.ndarray'>\n",
      "Input data type: <class 'numpy.ndarray'>\n",
      "Input data type: <class 'numpy.ndarray'>\n",
      "Input data type: <class 'numpy.ndarray'>\n",
      "Holdout precision: 0.948220064724919, accuracy: 0.9448213478064225\n",
      "Cross-evaluation average precision: 0.9511265907159432, std: 0.006103607432320515\n",
      "Cross-evaluation average accuracy: 0.9502485823930351, std: 0.004787537285090638\n",
      "Holdout time: 0.2919960021972656, cross-evaluation mean time: 0.16768980026245117\n",
      "-- k=4, L1 --\n",
      "Input data type: <class 'numpy.ndarray'>\n",
      "Input data type: <class 'numpy.ndarray'>\n",
      "Input data type: <class 'numpy.ndarray'>\n",
      "Input data type: <class 'numpy.ndarray'>\n",
      "Input data type: <class 'numpy.ndarray'>\n",
      "Input data type: <class 'numpy.ndarray'>\n",
      "Input data type: <class 'numpy.ndarray'>\n",
      "Input data type: <class 'numpy.ndarray'>\n",
      "Input data type: <class 'numpy.ndarray'>\n",
      "Input data type: <class 'numpy.ndarray'>\n",
      "Input data type: <class 'numpy.ndarray'>\n",
      "Holdout precision: 0.9634247714048213, accuracy: 0.9479873360470376\n",
      "Cross-evaluation average precision: 0.9680673761001156, std: 0.007561724566800385\n",
      "Cross-evaluation average accuracy: 0.9556768919836678, std: 0.006101592027108406\n",
      "Holdout time: 0.5949990749359131, cross-evaluation mean time: 0.3123957872390747\n",
      "-- k=4, L2 --\n",
      "Input data type: <class 'numpy.ndarray'>\n",
      "Input data type: <class 'numpy.ndarray'>\n",
      "Input data type: <class 'numpy.ndarray'>\n",
      "Input data type: <class 'numpy.ndarray'>\n",
      "Input data type: <class 'numpy.ndarray'>\n",
      "Input data type: <class 'numpy.ndarray'>\n",
      "Input data type: <class 'numpy.ndarray'>\n",
      "Input data type: <class 'numpy.ndarray'>\n",
      "Input data type: <class 'numpy.ndarray'>\n",
      "Input data type: <class 'numpy.ndarray'>\n",
      "Input data type: <class 'numpy.ndarray'>\n",
      "Holdout precision: 0.9629317607413648, accuracy: 0.9407507914970602\n",
      "Cross-evaluation average precision: 0.9654609203062074, std: 0.003418675513391992\n",
      "Cross-evaluation average accuracy: 0.947262975297227, std: 0.006312627373113056\n",
      "Holdout time: 0.4569988250732422, cross-evaluation mean time: 0.21928460597991944\n",
      "-- k=5, L1 --\n",
      "Input data type: <class 'numpy.ndarray'>\n",
      "Input data type: <class 'numpy.ndarray'>\n",
      "Input data type: <class 'numpy.ndarray'>\n",
      "Input data type: <class 'numpy.ndarray'>\n",
      "Input data type: <class 'numpy.ndarray'>\n",
      "Input data type: <class 'numpy.ndarray'>\n",
      "Input data type: <class 'numpy.ndarray'>\n",
      "Input data type: <class 'numpy.ndarray'>\n",
      "Input data type: <class 'numpy.ndarray'>\n",
      "Input data type: <class 'numpy.ndarray'>\n",
      "Input data type: <class 'numpy.ndarray'>\n",
      "Holdout precision: 0.9526484751203852, accuracy: 0.9538670284938942\n",
      "Cross-evaluation average precision: 0.9525500728400005, std: 0.0071054883297572\n",
      "Cross-evaluation average accuracy: 0.9583912513398738, std: 0.006795370758244526\n",
      "Holdout time: 0.60323166847229, cross-evaluation mean time: 0.31335649490356443\n",
      "-- k=5, L2 --\n",
      "Input data type: <class 'numpy.ndarray'>\n",
      "Input data type: <class 'numpy.ndarray'>\n",
      "Input data type: <class 'numpy.ndarray'>\n",
      "Input data type: <class 'numpy.ndarray'>\n",
      "Input data type: <class 'numpy.ndarray'>\n",
      "Input data type: <class 'numpy.ndarray'>\n",
      "Input data type: <class 'numpy.ndarray'>\n",
      "Input data type: <class 'numpy.ndarray'>\n",
      "Input data type: <class 'numpy.ndarray'>\n",
      "Input data type: <class 'numpy.ndarray'>\n",
      "Input data type: <class 'numpy.ndarray'>\n",
      "Holdout precision: 0.9511002444987775, accuracy: 0.9443690637720489\n",
      "Cross-evaluation average precision: 0.9489355797860102, std: 0.0048673339516355505\n",
      "Cross-evaluation average accuracy: 0.9484398550072415, std: 0.004748593454141442\n",
      "Holdout time: 0.4379878044128418, cross-evaluation mean time: 0.2211982488632202\n"
     ]
    }
   ],
   "source": [
    "# perform kNN for different norms and k's\n",
    "\n",
    "precisions = []\n",
    "accuracies = []\n",
    "times = []\n",
    "ks = range(2,6)\n",
    "for k in ks:\n",
    "    kNN_L1 = kNN(n_neighbors=k, p=1)\n",
    "    kNN_L2 = kNN(n_neighbors=k, p=2)\n",
    "    \n",
    "    print(f\"-- k={k}, L1 --\")\n",
    "    repL1 = evaluateModel(kNN_L1)\n",
    "    \n",
    "    print(f\"-- k={k}, L2 --\")\n",
    "    repL2 = evaluateModel(kNN_L2)\n",
    "    \n",
    "    precisions.append(repL1[0] + repL2[0])\n",
    "    accuracies.append(repL1[1] + repL2[1])\n",
    "    times.append(repL1[2] + repL2[2])\n",
    "    \n"
   ]
  },
  {
   "cell_type": "code",
   "execution_count": 62,
   "id": "e4e8baa8-7271-4d8e-9373-310be0b3c3dd",
   "metadata": {},
   "outputs": [
    {
     "data": {
      "text/plain": [
       "<Figure size 432x288 with 0 Axes>"
      ]
     },
     "metadata": {},
     "output_type": "display_data"
    },
    {
     "data": {
      "image/png": "[encoded data removed]",
      "text/plain": [
       "<Figure size 432x288 with 1 Axes>"
      ]
     },
     "metadata": {
      "needs_background": "light"
     },
     "output_type": "display_data"
    },
    {
     "data": {
      "image/png": "[encoded data removed]",
      "text/plain": [
       "<Figure size 432x288 with 1 Axes>"
      ]
     },
     "metadata": {
      "needs_background": "light"
     },
     "output_type": "display_data"
    },
    {
     "data": {
      "image/png": "[encoded data removed]",
      "text/plain": [
       "<Figure size 432x288 with 1 Axes>"
      ]
     },
     "metadata": {
      "needs_background": "light"
     },
     "output_type": "display_data"
    }
   ],
   "source": [
    "# plot kNN-findings\n",
    "\n",
    "precisionsT = np.transpose(precisions)\n",
    "accuraciesT = np.transpose(accuracies)\n",
    "timesT = np.transpose(times)\n",
    "\n",
    "#order: holdout L1, cross L1, holdout L2, cross L2\n",
    "colorScheme = ['b-','b--','r-', 'r--']\n",
    "\n",
    "plt.figure(0)\n",
    "ax = plt.figure().gca()\n",
    "ax.xaxis.get_major_locator().set_params(integer=True)\n",
    "\n",
    "for i in range(len(precisionsT)):\n",
    "    plt.plot(ks, precisionsT[i],colorScheme[i]) \n",
    "\n",
    "plt.xlabel('k')\n",
    "plt.ylabel('Precision')\n",
    "\n",
    "plt.ylim([0.9,1])\n",
    "\n",
    "plt.savefig(\"ex1-plots/phishing/kNNprecision.png\")\n",
    "\n",
    "plt.figure(1)\n",
    "ax = plt.figure().gca()\n",
    "ax.xaxis.get_major_locator().set_params(integer=True)\n",
    "\n",
    "for i in range(len(accuraciesT)):\n",
    "    plt.plot(ks, accuraciesT[i],colorScheme[i]) \n",
    "\n",
    "plt.xlabel('k')\n",
    "plt.ylabel('Accuracy')\n",
    "\n",
    "plt.ylim([0.9,1])\n",
    "\n",
    "plt.savefig(\"ex1-plots/phishing/kNNaccuracy\")\n",
    "\n",
    "plt.figure(2)\n",
    "ax = plt.figure().gca()\n",
    "ax.xaxis.get_major_locator().set_params(integer=True)\n",
    "\n",
    "for i in range(len(timesT)):\n",
    "    plt.plot(ks, timesT[i],colorScheme[i]) \n",
    "\n",
    "plt.xlabel('k')\n",
    "plt.ylabel('Time')\n",
    "\n",
    "plt.savefig(\"ex1-plots/phishing/kNNtime\")\n",
    "\n",
    "\n"
   ]
  },
  {
   "cell_type": "markdown",
   "id": "2aa01d6e-0c50-4051-bdbb-b8574f75a927",
   "metadata": {},
   "source": [
    "## Naive bayes"
   ]
  },
  {
   "cell_type": "code",
   "execution_count": 55,
   "id": "fe9ec04b-f894-411c-ba4b-ce0ffb3acc20",
   "metadata": {},
   "outputs": [
    {
     "name": "stdout",
     "output_type": "stream",
     "text": [
      "Holdout precision: 0.9238782051282052, accuracy: 0.905924920850294\n",
      "Cross-evaluation average precision: 0.9170655523882723, std: 0.008394278320478805\n",
      "Cross-evaluation average accuracy: 0.9059251470792796, std: 0.006118563558773836\n"
     ]
    },
    {
     "data": {
      "text/plain": [
       "([0.9238782051282052, 0.9170655523882723],\n",
       " [0.905924920850294, 0.9059251470792796])"
      ]
     },
     "execution_count": 55,
     "metadata": {},
     "output_type": "execute_result"
    }
   ],
   "source": [
    "# calculate bayes\n",
    "bayes = CategoricalNB()\n",
    "\n",
    "evaluateModel(bayes)"
   ]
  },
  {
   "cell_type": "code",
   "execution_count": 13,
   "id": "aac45dc2-5ea3-47f4-814c-df9776485ed6",
   "metadata": {},
   "outputs": [],
   "source": [
    "# plot bayes"
   ]
  },
  {
   "cell_type": "markdown",
   "id": "4d0682cb-75b8-4c1e-b98b-84e84bb9a35d",
   "metadata": {},
   "source": [
    "## Random forest"
   ]
  },
  {
   "cell_type": "code",
   "execution_count": 7,
   "id": "84c1c60f-7594-4685-bd15-b2d00aa27f86",
   "metadata": {},
   "outputs": [],
   "source": [
    "# calculate random forest for different number of forests/ different split measurements"
   ]
  },
  {
   "cell_type": "code",
   "execution_count": 8,
   "id": "65321c8f-8fcb-4754-bcab-3f29cbcc2f07",
   "metadata": {},
   "outputs": [],
   "source": [
    "# plot random forest"
   ]
  }
 ],
 "metadata": {
  "kernelspec": {
   "display_name": "Python 3 (ipykernel)",
   "language": "python",
   "name": "python3"
  },
  "language_info": {
   "codemirror_mode": {
    "name": "ipython",
    "version": 3
   },
   "file_extension": ".py",
   "mimetype": "text/x-python",
   "name": "python",
   "nbconvert_exporter": "python",
   "pygments_lexer": "ipython3",
   "version": "3.9.1"
  }
 },
 "nbformat": 4,
 "nbformat_minor": 5
}
