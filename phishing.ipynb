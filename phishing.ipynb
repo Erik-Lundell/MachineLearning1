{
 "cells": [
  {
   "cell_type": "markdown",
   "id": "9b39b31e-c4dc-429b-a418-3ccc0839abc3",
   "metadata": {
    "tags": []
   },
   "source": [
    "#### Analysis of the phishing data set\n",
    "Prediction is too good, probably includes training set in training data somehow...\n",
    "\n",
    "Just testing out the markup, for example math expressions: <br>\n",
    "$d = \\sqrt{x_1^2 +x_2^2}$ <br>\n",
    "We start out with loading the data, setting some config variables and splitting the data"
   ]
  },
  {
   "cell_type": "code",
   "execution_count": 1,
   "id": "7d0e6d69-b0d1-4efa-bf84-ff6d6bf7abeb",
   "metadata": {},
   "outputs": [],
   "source": [
    "from random import randrange\n",
    "import pandas as pd\n",
    "import matplotlib.pyplot as plt"
   ]
  },
  {
   "cell_type": "code",
   "execution_count": 2,
   "id": "7f0c9a72-1288-4d13-9958-e0cf89b3192f",
   "metadata": {
    "tags": []
   },
   "outputs": [],
   "source": [
    "#Config\n",
    "evaluation_method = \"holdout\" #holdout or cross\n",
    "holdout_split = 0.8\n",
    "cross_validations = 10\n",
    "\n",
    "# Load data\n",
    "df_raw = pd.read_csv(\"data/phpV5QYya.csv\")\n",
    "\n",
    "# Preprocess\n",
    "# Data is already preprocessed - just shuffle to make sure\n",
    "df_shuffeled = df_raw.sample(frac=1,random_state=193520285)\n",
    "\n",
    "#Split data\n",
    "subsets = []\n",
    "if(evaluation_method == \"holdout\"):\n",
    "    num_learning = round(df_shuffeled.shape[0] * holdout_split)\n",
    "    subsets.append(df_shuffeled[0:num_learning-1])\n",
    "    subsets.append(df_shuffeled[num_learning:])\n",
    "    \n",
    "if(evaluation_method == \"cross\"):\n",
    "    num_per_subset = (int)(df_shuffeled.shape[0]/cross_validations)\n",
    "    residual = df_shuffeled.shape[0]%cross_validations\n",
    "\n",
    "    offset = 0\n",
    "    for i in range(cross_validations):\n",
    "        begin = num_per_subset*i+offset\n",
    "        if(offset<residual):\n",
    "            offset = offset+1\n",
    "        end = num_per_subset*(i+1)+offset\n",
    "\n",
    "        subsets.append(df_shuffeled[begin:end])"
   ]
  },
  {
   "cell_type": "markdown",
   "id": "72b7ec70-69af-4f71-9820-0929f3374914",
   "metadata": {},
   "source": [
    "First we set up the evaluation method:"
   ]
  },
  {
   "cell_type": "code",
   "execution_count": null,
   "id": "a7722473-1287-490f-90c7-782eac0448c2",
   "metadata": {},
   "outputs": [],
   "source": [
    "for row in subsets[0].iterrows():\n",
    "    x= sum(row[1][:-1])\n",
    "    #print(x)"
   ]
  },
  {
   "cell_type": "code",
   "execution_count": 39,
   "id": "47669034-3d13-46f3-b327-530591c5a706",
   "metadata": {},
   "outputs": [],
   "source": [
    "def evaluate(model):\n",
    "    print(f\"Evaluating with method: {evaluation_method}\")\n",
    "    \n",
    "    if(evaluation_method==\"holdout\"):\n",
    "        model.train(subsets[0])\n",
    "        \n",
    "        tp = 0\n",
    "        tn = 0\n",
    "        fp = 0\n",
    "        fn = 0\n",
    "        for row in subsets[1].iterrows():\n",
    "            instance = row[1]\n",
    "            pred = model.predict(instance)\n",
    "            \n",
    "            if(instance['Result']==1):\n",
    "                if(pred==1):\n",
    "                    tp = tp+1\n",
    "                if(pred==-1):\n",
    "                    fn = fn+1\n",
    "            if(instance['Result']==-1):\n",
    "                if(pred==1):\n",
    "                    fp = fp+1\n",
    "                if(pred==-1):\n",
    "                    tn = tn+1\n",
    "                \n",
    "            print(f\"sens: {(tp/(tp+fn))}, acc: { (tp+tn)/(tp+tn+fp+fn)}\")\n",
    "        return (tp/(tp+fn)), (tp+tn)/(tp+tn+fp+fn)\n",
    "                \n",
    "        "
   ]
  },
  {
   "cell_type": "code",
   "execution_count": 31,
   "id": "7569317f-55c8-4508-b074-60d528dd7f14",
   "metadata": {},
   "outputs": [],
   "source": [
    "#Assumes last element in each row is the target\n",
    "#Assumes classes = {1 (=phising), -1(=safe)}\n",
    "\n",
    "class kNN:\n",
    "    def __init__(self, k):\n",
    "        self.k = k\n",
    "        \n",
    "    def train(self, data):\n",
    "        #Just save the entire dataset\n",
    "        self.data = data\n",
    "        \n",
    "    def predict(self, instance):\n",
    "        #neighbours is list of tuple( target_vote, distance )\n",
    "        #Sorted smallest distance -> highest\n",
    "        neighbours = []\n",
    "        \n",
    "        #Compare instance to every element in data set\n",
    "        for row in self.data.iterrows():\n",
    "            element = row[1]\n",
    "            \n",
    "            #Calculate distance from instance to element\n",
    "            dist = sum((instance[:-1] - element[:-1]).abs())\n",
    "            \n",
    "            #If first element, just add \n",
    "            if(len(neighbours)==0):\n",
    "                neighbours.append((element['Result'], dist))\n",
    "            else:\n",
    "                \n",
    "                for i, n in enumerate(neighbours):\n",
    "                    #If the calculated distance is shorter than compared neighbour, insert _before_ this neighbour\n",
    "                    if(dist<n[1]):\n",
    "                        neighbours.insert(i,(element['Result'],dist))\n",
    "                        \n",
    "                    #If we have to many neighbours, remove last one in list (with highest distance)\n",
    "                    if(len(neighbours)>self.k):\n",
    "                        del neighbours[-1]\n",
    "             \n",
    "        #Perform count of each class (1 or -1)\n",
    "        phis_count = 0\n",
    "        safe_count = 0\n",
    "        for n in neighbours:\n",
    "            if(n[0]==1):\n",
    "                phis_count = phis_count + 1\n",
    "            if(n[0]==-1):\n",
    "                safe_count = safe_count + 1\n",
    "        \n",
    "        #Return \n",
    "        if (phis_count >= safe_count):\n",
    "            return 1\n",
    "        else: \n",
    "            return -1\n",
    "    \n",
    "    "
   ]
  },
  {
   "cell_type": "code",
   "execution_count": null,
   "id": "09e34850-0701-4cc6-952c-9d187de818ba",
   "metadata": {
    "tags": []
   },
   "outputs": [],
   "source": [
    "print(\"hello\")\n",
    "\n",
    "kNN3 = kNN(3)\n",
    "\n",
    "result = evaluate(kNN3)\n",
    "\n",
    "print(result)\n",
    "print(f\"Accuarcy: {result[1]}, sensitivity: {result[0]}\")"
   ]
  },
  {
   "cell_type": "code",
   "execution_count": null,
   "id": "9852a827-33d5-4ff8-b2dc-102fd9afebd8",
   "metadata": {},
   "outputs": [],
   "source": []
  },
  {
   "cell_type": "code",
   "execution_count": null,
   "id": "05fdbb90-8169-440c-b446-f450f8309b23",
   "metadata": {},
   "outputs": [],
   "source": []
  }
 ],
 "metadata": {
  "kernelspec": {
   "display_name": "Python 3 (ipykernel)",
   "language": "python",
   "name": "python3"
  },
  "language_info": {
   "codemirror_mode": {
    "name": "ipython",
    "version": 3
   },
   "file_extension": ".py",
   "mimetype": "text/x-python",
   "name": "python",
   "nbconvert_exporter": "python",
   "pygments_lexer": "ipython3",
   "version": "3.9.1"
  }
 },
 "nbformat": 4,
 "nbformat_minor": 5
}
