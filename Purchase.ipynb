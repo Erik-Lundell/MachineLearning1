{
 "cells": [
  {
   "cell_type": "markdown",
   "id": "fced8236",
   "metadata": {},
   "source": [
    "# Purchase Dataset Classification\n",
    "## Loading & Preparing Data"
   ]
  },
  {
   "cell_type": "code",
   "execution_count": 1,
   "id": "96d7e89c",
   "metadata": {},
   "outputs": [],
   "source": [
    "import numpy as np\n",
    "import pandas as pd\n",
    "from sklearn.model_selection import train_test_split\n",
    "from sklearn.preprocessing import StandardScaler\n",
    "from sklearn.ensemble import RandomForestClassifier\n",
    "from sklearn.metrics import confusion_matrix\n",
    "#from sklearn.externals import joblib\n",
    "\n",
    "#d_train = pd.read_csv(\"H:/Markus/purchase_ds/purchase600-100cls-15k.lrn.csv\")\n",
    "\n",
    "#d_test = pd.read_csv(\"H:/Markus/purchase_ds/purchase600-100cls-15k.tes.csv\")\n",
    "\n",
    "#d_sol_ex = pd.read_csv(\"H:/Markus/purchase_ds/purchase600-100cls-15k.sol.ex.csv\")\n",
    "\n",
    "\n",
    "d_train = pd.read_csv(\"./purchase600-100cls-15k.lrn.csv\")\n",
    "\n",
    "d_test = pd.read_csv(\"./purchase600-100cls-15k.tes.csv\")\n",
    "\n",
    "d_sol_ex = pd.read_csv(\"./purchase600-100cls-15k.sol.ex.csv\")"
   ]
  },
  {
   "cell_type": "code",
   "execution_count": 2,
   "id": "1ed7f2c6",
   "metadata": {},
   "outputs": [
    {
     "name": "stdout",
     "output_type": "stream",
     "text": [
      "No duplicates found in column ID\n"
     ]
    }
   ],
   "source": [
    "X = d_train.iloc[:,0:601].values\n",
    "y = d_train.iloc[:,601].values\n",
    "X_test = d_test\n",
    "\n",
    "#Check if there are any duplicates in the dataset\n",
    "boolean = d_train.duplicated(subset=['ID']).any()\n",
    "\n",
    "if boolean == True:\n",
    "    print(\"There are duplicates in column ID\")\n",
    "else:\n",
    "    print(\"No duplicates found in column ID\")"
   ]
  },
  {
   "cell_type": "code",
   "execution_count": 10,
   "id": "3197c349",
   "metadata": {},
   "outputs": [
    {
     "name": "stdout",
     "output_type": "stream",
     "text": [
      "0         0\n",
      "476      16\n",
      "589      20\n",
      "524      60\n",
      "443      91\n",
      "       ... \n",
      "81     9575\n",
      "55     9694\n",
      "15     9730\n",
      "3      9793\n",
      "16     9865\n",
      "Length: 600, dtype: int64\n"
     ]
    },
    {
     "data": {
      "text/plain": [
       "count    100.000000\n",
       "mean     100.000000\n",
       "std       43.928086\n",
       "min        9.000000\n",
       "25%       75.000000\n",
       "50%       96.000000\n",
       "75%      120.250000\n",
       "max      267.000000\n",
       "Name: ID, dtype: float64"
      ]
     },
     "execution_count": 10,
     "metadata": {},
     "output_type": "execute_result"
    },
    {
     "data": {
      "image/png": "[encoded data removed]",
      "text/plain": [
       "<Figure size 1440x288 with 1 Axes>"
      ]
     },
     "metadata": {
      "needs_background": "light"
     },
     "output_type": "display_data"
    }
   ],
   "source": [
    "#d_train[\"class\"].describe()\n",
    "#Calculate and Plot number of Customers per Class\n",
    "count_per_classes = d_train.groupby(['class'])['ID'].count().sort_values()\n",
    "count_per_classes.plot(kind=\"bar\", title=\"Distribution of Customer Classes\", figsize=(20,4), ylabel=\"Count\")\n",
    "\n",
    "#Summarize the Number of each product in the dataset\n",
    "sum_of_bought_prod = d_train.drop(columns=['ID', 'class']).sum(axis=0)\n",
    "print(sum_of_bought_prod.sort_values())#.plot(kind=\"bar\", title=\"Distribution of Bought Products\", color=\"r\")\n",
    "sum_of_bought_prod.describe()\n",
    "count_per_classes.describe()"
   ]
  },
  {
   "cell_type": "markdown",
   "id": "1befaa9b",
   "metadata": {},
   "source": [
    "## Dataset Description\n",
    "The purchase dataset contains information about 10K customers and 600 binary attributes (product types), showing if a customer purchased the corresponding product or not. There are 100 classes in the target attribute. Each class represents a group of customers with similar purchase behaviour. The classification task is to predict the purchase behaviour of customers.\n",
    "\n",
    "There is a big difference between the amount of customers in different classes ranging from class 30 with only 9 IDs contained in that class to class 19 with 267 IDs contained there.\n",
    "\n",
    "We also encounter a big discrepancy looking at the products. There are products which are contained in almost every basket like number 16 with 9865 purchases and there are products like 0 with 0 purchases, which might be an error to be considered or product 476 with only 16 purchases. Maybe we will have to consider removing those outliers in order to improve prediction accuracy."
   ]
  },
  {
   "cell_type": "markdown",
   "id": "fbb50a47",
   "metadata": {},
   "source": [
    "## Random Forest Classification"
   ]
  },
  {
   "cell_type": "code",
   "execution_count": 12,
   "id": "cd3ee77c",
   "metadata": {},
   "outputs": [
    {
     "data": {
      "text/plain": [
       "RandomForestClassifier(n_estimators=1000, random_state=42)"
      ]
     },
     "execution_count": 12,
     "metadata": {},
     "output_type": "execute_result"
    }
   ],
   "source": [
    "# Creating the Training and Test set from data\n",
    "X_train, X_test, y_train, y_test = train_test_split(X, y, test_size = 0.20, random_state = 21)\n",
    "\n",
    "# Random Forest Classification\n",
    "classifier = RandomForestClassifier(n_estimators = 1000, criterion = 'gini', random_state = 42)\n",
    "classifier.fit(X_train, y_train)"
   ]
  },
  {
   "cell_type": "code",
   "execution_count": 13,
   "id": "f4d3edb7",
   "metadata": {},
   "outputs": [
    {
     "name": "stdout",
     "output_type": "stream",
     "text": [
      "              precision    recall  f1-score   support\n",
      "\n",
      "           0       0.29      0.13      0.18        15\n",
      "           1       1.00      0.33      0.50         9\n",
      "           2       1.00      0.33      0.50        12\n",
      "           3       0.22      0.95      0.35        39\n",
      "           4       0.68      0.93      0.79        14\n",
      "           5       0.44      0.20      0.28        20\n",
      "           6       0.70      0.94      0.80        17\n",
      "           7       0.63      0.48      0.55        25\n",
      "           8       0.45      1.00      0.62        18\n",
      "           9       0.75      0.14      0.24        21\n",
      "          10       0.50      0.04      0.08        23\n",
      "          11       0.42      0.37      0.39        27\n",
      "          12       0.56      0.38      0.45        13\n",
      "          13       0.53      0.69      0.60        13\n",
      "          14       0.29      0.47      0.36        17\n",
      "          15       0.71      0.40      0.51        25\n",
      "          16       0.35      0.84      0.50        49\n",
      "          17       0.35      0.22      0.27        32\n",
      "          18       0.33      0.07      0.11        29\n",
      "          19       0.22      0.91      0.35        43\n",
      "          20       0.44      0.88      0.59        26\n",
      "          21       0.35      0.30      0.32        20\n",
      "          22       0.50      0.08      0.13        26\n",
      "          23       0.28      0.53      0.37        36\n",
      "          24       0.00      0.00      0.00        19\n",
      "          25       0.33      0.08      0.12        26\n",
      "          26       0.00      0.00      0.00         9\n",
      "          27       0.30      0.62      0.40        42\n",
      "          28       1.00      0.17      0.29        12\n",
      "          29       0.00      0.00      0.00         9\n",
      "          30       0.00      0.00      0.00         3\n",
      "          31       0.17      0.19      0.18        27\n",
      "          32       0.64      0.53      0.58        17\n",
      "          33       1.00      0.09      0.16        23\n",
      "          34       0.86      0.20      0.32        30\n",
      "          35       0.20      0.07      0.11        14\n",
      "          36       0.56      0.31      0.40        16\n",
      "          37       0.45      0.38      0.41        24\n",
      "          38       0.00      0.00      0.00        20\n",
      "          39       0.12      0.04      0.06        26\n",
      "          40       0.26      0.73      0.38        30\n",
      "          41       0.60      0.38      0.46        16\n",
      "          42       0.48      0.68      0.56        31\n",
      "          43       0.00      0.00      0.00        10\n",
      "          44       0.53      0.32      0.40        25\n",
      "          45       0.23      0.61      0.33        18\n",
      "          46       0.00      0.00      0.00         8\n",
      "          47       0.00      0.00      0.00        12\n",
      "          48       0.64      0.28      0.39        32\n",
      "          49       0.00      0.00      0.00        10\n",
      "          50       0.43      0.11      0.18        27\n",
      "          51       0.73      0.27      0.39        30\n",
      "          52       0.31      0.89      0.46        19\n",
      "          53       0.71      0.21      0.32        24\n",
      "          54       0.21      0.80      0.33        10\n",
      "          55       0.64      0.60      0.62        42\n",
      "          56       0.41      0.46      0.43        24\n",
      "          57       0.70      0.25      0.37        28\n",
      "          58       0.38      0.16      0.23        31\n",
      "          59       1.00      0.04      0.08        24\n",
      "          60       0.50      0.14      0.21        22\n",
      "          61       0.24      0.39      0.30        31\n",
      "          62       0.28      0.69      0.40        16\n",
      "          63       0.20      0.06      0.09        18\n",
      "          64       0.35      0.64      0.45        14\n",
      "          65       0.00      0.00      0.00        14\n",
      "          66       0.00      0.00      0.00         7\n",
      "          67       0.28      0.50      0.36        26\n",
      "          68       0.00      0.00      0.00         6\n",
      "          69       0.50      0.32      0.39        22\n",
      "          70       0.27      0.17      0.21        23\n",
      "          71       0.32      0.42      0.36        24\n",
      "          72       0.00      0.00      0.00        17\n",
      "          73       0.50      0.20      0.29        15\n",
      "          74       0.45      0.31      0.37        16\n",
      "          75       0.36      0.36      0.36        11\n",
      "          76       0.00      0.00      0.00        16\n",
      "          77       0.55      0.23      0.32        26\n",
      "          78       0.43      0.27      0.33        11\n",
      "          79       0.00      0.00      0.00         6\n",
      "          80       0.00      0.00      0.00        16\n",
      "          81       0.50      0.11      0.18        18\n",
      "          82       0.57      0.24      0.33        17\n",
      "          83       0.30      0.56      0.39        18\n",
      "          84       0.00      0.00      0.00        13\n",
      "          85       0.67      0.33      0.44        24\n",
      "          86       0.29      0.46      0.35        24\n",
      "          87       0.00      0.00      0.00        18\n",
      "          88       0.50      0.29      0.37        17\n",
      "          89       0.00      0.00      0.00        15\n",
      "          90       0.40      0.13      0.20        15\n",
      "          91       0.42      0.56      0.48        25\n",
      "          92       0.00      0.00      0.00        11\n",
      "          93       0.31      0.36      0.33        11\n",
      "          94       0.00      0.00      0.00         5\n",
      "          95       0.50      0.12      0.20         8\n",
      "          96       1.00      0.17      0.29         6\n",
      "          97       0.00      0.00      0.00        14\n",
      "          98       0.23      0.71      0.35        24\n",
      "          99       0.17      0.09      0.11        23\n",
      "\n",
      "    accuracy                           0.35      2000\n",
      "   macro avg       0.37      0.30      0.27      2000\n",
      "weighted avg       0.40      0.35      0.30      2000\n",
      "\n",
      "0.3505\n"
     ]
    },
    {
     "name": "stderr",
     "output_type": "stream",
     "text": [
      "C:\\ProgramData\\Anaconda3\\lib\\site-packages\\sklearn\\metrics\\_classification.py:1248: UndefinedMetricWarning: Precision and F-score are ill-defined and being set to 0.0 in labels with no predicted samples. Use `zero_division` parameter to control this behavior.\n",
      "  _warn_prf(average, modifier, msg_start, len(result))\n",
      "C:\\ProgramData\\Anaconda3\\lib\\site-packages\\sklearn\\metrics\\_classification.py:1248: UndefinedMetricWarning: Precision and F-score are ill-defined and being set to 0.0 in labels with no predicted samples. Use `zero_division` parameter to control this behavior.\n",
      "  _warn_prf(average, modifier, msg_start, len(result))\n",
      "C:\\ProgramData\\Anaconda3\\lib\\site-packages\\sklearn\\metrics\\_classification.py:1248: UndefinedMetricWarning: Precision and F-score are ill-defined and being set to 0.0 in labels with no predicted samples. Use `zero_division` parameter to control this behavior.\n",
      "  _warn_prf(average, modifier, msg_start, len(result))\n"
     ]
    }
   ],
   "source": [
    "# Predicting the Test set results\n",
    "y_pred = classifier.predict(X_test)\n",
    "\n",
    "from sklearn.metrics import classification_report, confusion_matrix, accuracy_score\n",
    "\n",
    "#print(confusion_matrix(y_test,y_pred))\n",
    "print(classification_report(y_test,y_pred))\n",
    "print(accuracy_score(y_test, y_pred))"
   ]
  },
  {
   "cell_type": "markdown",
   "id": "831088c4",
   "metadata": {},
   "source": [
    "## KNN"
   ]
  },
  {
   "cell_type": "code",
   "execution_count": 15,
   "id": "6e864d98",
   "metadata": {},
   "outputs": [
    {
     "name": "stdout",
     "output_type": "stream",
     "text": [
      "0.0275\n"
     ]
    }
   ],
   "source": [
    "# Training the K-NN model on the Training set\n",
    "from sklearn.neighbors import KNeighborsClassifier\n",
    "classifier = KNeighborsClassifier(n_neighbors = 5, metric = 'minkowski', p = 2)\n",
    "classifier.fit(X_train, y_train)\n",
    "\n",
    "# Predicting the Test set results\n",
    "y_pred = classifier.predict(X_test)\n",
    "\n",
    "# Making the Confusion Matrix\n",
    "from sklearn.metrics import confusion_matrix, accuracy_score\n",
    "cm = confusion_matrix(y_test, y_pred)\n",
    "ac = accuracy_score(y_test, y_pred)\n",
    "print(ac)"
   ]
  },
  {
   "cell_type": "markdown",
   "id": "69423381",
   "metadata": {},
   "source": [
    "## LDA"
   ]
  },
  {
   "cell_type": "code",
   "execution_count": 19,
   "id": "9f7597b6",
   "metadata": {},
   "outputs": [
    {
     "name": "stdout",
     "output_type": "stream",
     "text": [
      "[[1 0 0 ... 0 0 2]\n",
      " [0 0 0 ... 0 0 0]\n",
      " [0 0 1 ... 0 0 0]\n",
      " ...\n",
      " [0 0 0 ... 0 0 2]\n",
      " [3 0 0 ... 0 1 0]\n",
      " [1 1 0 ... 0 0 1]]\n",
      "Accuracy0.034\n"
     ]
    }
   ],
   "source": [
    "from sklearn.discriminant_analysis import LinearDiscriminantAnalysis as LDA\n",
    "\n",
    "lda = LDA(n_components=1)\n",
    "X_train = lda.fit_transform(X_train, y_train)\n",
    "X_test = lda.transform(X_test)\n",
    "\n",
    "classifier = RandomForestClassifier(n_estimators = 1000, criterion = 'gini', random_state = 42)\n",
    "\n",
    "classifier.fit(X_train, y_train)\n",
    "y_pred = classifier.predict(X_test)\n",
    "\n",
    "cm = confusion_matrix(y_test, y_pred)\n",
    "print(cm)\n",
    "print('Accuracy' + str(accuracy_score(y_test, y_pred)))"
   ]
  }
 ],
 "metadata": {
  "kernelspec": {
   "display_name": "Python 3 (ipykernel)",
   "language": "python",
   "name": "python3"
  },
  "language_info": {
   "codemirror_mode": {
    "name": "ipython",
    "version": 3
   },
   "file_extension": ".py",
   "mimetype": "text/x-python",
   "name": "python",
   "nbconvert_exporter": "python",
   "pygments_lexer": "ipython3",
   "version": "3.9.7"
  }
 },
 "nbformat": 4,
 "nbformat_minor": 5
}
