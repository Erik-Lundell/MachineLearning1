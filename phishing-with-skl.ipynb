{
 "cells": [
  {
   "cell_type": "markdown",
   "id": "a8ac724d-1105-4e4c-92b4-a0f2c1a76eb6",
   "metadata": {},
   "source": [
    "# Phishing dataset\n",
    "### What to test\n",
    "##### For all methods:\n",
    "- Metric: precision, accuracy\n",
    "- holdout, cross-Validation (mean)\n",
    "\n",
    "##### Methods:\n",
    "- kNN(2-5), L1 and L2 norm\n",
    "- Random forest (num trees = ???) (https://scikit-learn.org/stable/modules/generated/sklearn.ensemble.RandomForestClassifier.html?highlight=random%20forest#sklearn.ensemble.RandomForestClassifier) https://mljar.com/blog/how-many-trees-in-random-forest/\n",
    " - naive bayes (https://scikit-learn.org/stable/modules/classes.html?highlight=naive%20bayes#module-sklearn.naive_bayes)\n",
    "    \n",
    " ### Structure\n",
    " One function to get training + test sets depending on holdout or cross-validation <br>\n",
    " One function to train and test for all data splits for a given model <br>\n",
    "     *Returns (mean) precision, accuracy for holdout/ cross-validation. <br>\n",
    "     \n",
    " One cell for each method"
   ]
  },
  {
   "cell_type": "code",
   "execution_count": 53,
   "id": "d48f06c9-b14f-477c-9ca6-4f4a02a2bbe5",
   "metadata": {},
   "outputs": [],
   "source": [
    "import pandas as pd\n",
    "import numpy as np\n",
    "import matplotlib.pyplot as plt\n",
    "import matplotlib.axis as axis\n",
    "import sklearn as skl\n",
    "from sklearn.neighbors import KNeighborsClassifier as kNN\n",
    "\n",
    "#load data, shuffle and separate parameters from labels\n",
    "df_raw = pd.read_csv(\"data/phpV5QYya.csv\")\n",
    "df_shuffeled = df_raw.sample(frac=1,random_state=193520285)\n",
    "\n",
    "X = df_shuffeled.iloc[:,:-1].values\n",
    "Y = df_shuffeled.iloc[:,-1:].values\n",
    "\n",
    "#Create splits\n",
    "cross_validator10 = skl.model_selection.StratifiedKFold(n_splits=10)\n",
    "hX_train, hX_test, hY_train, hY_test = skl.model_selection.train_test_split(X,Y, test_size=0.2)"
   ]
  },
  {
   "cell_type": "markdown",
   "id": "ebb82772-f058-4f16-8e05-fcba8112430b",
   "metadata": {},
   "source": [
    "## Prepare evaluation functions "
   ]
  },
  {
   "cell_type": "code",
   "execution_count": 30,
   "id": "1a92346d-5ebc-4a02-a0a5-4cb2fa59f28d",
   "metadata": {},
   "outputs": [],
   "source": [
    "def evaluateModelFromDataset(model, X_train, Y_train, X_test, Y_test):\n",
    "    model.fit(X_train, Y_train)\n",
    "    Y_pred = model.predict(X_test)\n",
    "    report = skl.metrics.classification_report(Y_test,Y_pred, output_dict=True)\n",
    "    \n",
    "    return report['1']['precision'], report['accuracy']\n",
    "\n",
    "def evaluateModel(model, do_print = True):\n",
    "\n",
    "    #Test holdout\n",
    "    holdout_rep = evaluateModelFromDataset(model, hX_train, hY_train.flatten(), hX_test, hY_test)\n",
    "    \n",
    "    #Test cross-evaluation\n",
    "    report_precision = []\n",
    "    report_accuracy  = []\n",
    "    for train_index, test_index in cross_validator10.split(X,Y):\n",
    "        X_train = X[train_index]\n",
    "        Y_train = Y[train_index]\n",
    "        X_test  = X[test_index]\n",
    "        Y_test  = Y[test_index]\n",
    "        \n",
    "        rep = evaluateModelFromDataset(model, X_train, Y_train.flatten(), X_test, Y_test)\n",
    "        report_precision.append(rep[0])\n",
    "        report_accuracy.append(rep[1])\n",
    "    \n",
    "    if(do_print):\n",
    "        print(f\"Holdout precision: {holdout_rep[0]}, accuracy: {holdout_rep[1]}\")\n",
    "        print(f\"Cross-evaluation average precision: {np.mean(report_precision)}, std: {np.std(report_precision)}\")\n",
    "        print(f\"Cross-evaluation average accuracy: {np.mean(report_accuracy)}, std: {np.std(report_accuracy)}\")\n",
    "    \n",
    "    return [holdout_rep[0], np.mean(report_precision)], [holdout_rep[1], np.mean(report_accuracy)]"
   ]
  },
  {
   "cell_type": "markdown",
   "id": "499e7dc9-d02c-4ceb-aacb-0b472229669d",
   "metadata": {},
   "source": [
    "## kNN"
   ]
  },
  {
   "cell_type": "code",
   "execution_count": null,
   "id": "b4818793-c56f-4dd7-9faa-d3dc431574b9",
   "metadata": {},
   "outputs": [],
   "source": [
    "# perform kNN for different norms and k's\n",
    "\n",
    "precisions = []\n",
    "accuracies = []\n",
    "ks = range(2,6)\n",
    "for k in ks:\n",
    "    kNN_L1 = kNN(n_neighbors=k, p=1)\n",
    "    kNN_L2 = kNN(n_neighbors=k, p=2)\n",
    "    \n",
    "    print(f\"-- k={k}, L1 --\")\n",
    "    repL1 = evaluateModel(kNN_L1)\n",
    "    \n",
    "    print(f\"-- k={k}, L2 --\")\n",
    "    repL2 = evaluateModel(kNN_L2)\n",
    "    \n",
    "    precisions.append(repL1[0] + repL2[0])\n",
    "    accuracies.append(repL1[1] + repL2[1])\n",
    "    \n"
   ]
  },
  {
   "cell_type": "code",
   "execution_count": 70,
   "id": "e4e8baa8-7271-4d8e-9373-310be0b3c3dd",
   "metadata": {},
   "outputs": [
    {
     "data": {
      "text/plain": [
       "<Figure size 432x288 with 0 Axes>"
      ]
     },
     "metadata": {},
     "output_type": "display_data"
    },
    {
     "data": {
      "image/png": "[encoded data removed]",
      "text/plain": [
       "<Figure size 432x288 with 1 Axes>"
      ]
     },
     "metadata": {
      "needs_background": "light"
     },
     "output_type": "display_data"
    },
    {
     "data": {
      "image/png": "[encoded data removed]",
      "text/plain": [
       "<Figure size 432x288 with 1 Axes>"
      ]
     },
     "metadata": {
      "needs_background": "light"
     },
     "output_type": "display_data"
    }
   ],
   "source": [
    "# plot kNN-findings\n",
    "\n",
    "precisionsT = np.transpose(precisions)\n",
    "accuraciesT = np.transpose(accuracies)\n",
    "\n",
    "#order: holdout L1, cross L1, holdout L2, cross L2\n",
    "colorScheme = ['b-','b--','r-', 'r--']\n",
    "\n",
    "plt.figure(0)\n",
    "ax = plt.figure().gca()\n",
    "ax.xaxis.get_major_locator().set_params(integer=True)\n",
    "\n",
    "for i in range(len(precisionsT)):\n",
    "    plt.plot(ks, precisionsT[i],colorScheme[i]) \n",
    "\n",
    "plt.xlabel('k')\n",
    "plt.ylabel('Precision')\n",
    "\n",
    "plt.ylim([0.9,1])\n",
    "\n",
    "plt.savefig(\"ex1-plots/phishing/kNNprecision.png\")\n",
    "\n",
    "plt.figure(1)\n",
    "ax = plt.figure().gca()\n",
    "ax.xaxis.get_major_locator().set_params(integer=True)\n",
    "\n",
    "for i in range(len(accuraciesT)):\n",
    "    plt.plot(ks, accuraciesT[i],colorScheme[i]) \n",
    "\n",
    "plt.xlabel('k')\n",
    "plt.ylabel('Accuracy')\n",
    "\n",
    "plt.ylim([0.9,1])\n",
    "\n",
    "plt.savefig(\"ex1-plots/phishing/kNNaccuracy\")\n",
    "\n",
    "\n"
   ]
  },
  {
   "cell_type": "markdown",
   "id": "2aa01d6e-0c50-4051-bdbb-b8574f75a927",
   "metadata": {},
   "source": [
    "## Naive bayes"
   ]
  },
  {
   "cell_type": "code",
   "execution_count": null,
   "id": "fe9ec04b-f894-411c-ba4b-ce0ffb3acc20",
   "metadata": {},
   "outputs": [],
   "source": [
    "# calculate bayes"
   ]
  },
  {
   "cell_type": "code",
   "execution_count": null,
   "id": "aac45dc2-5ea3-47f4-814c-df9776485ed6",
   "metadata": {},
   "outputs": [],
   "source": [
    "# plot bayes"
   ]
  },
  {
   "cell_type": "markdown",
   "id": "4d0682cb-75b8-4c1e-b98b-84e84bb9a35d",
   "metadata": {},
   "source": [
    "## Random forest"
   ]
  },
  {
   "cell_type": "code",
   "execution_count": 74,
   "id": "84c1c60f-7594-4685-bd15-b2d00aa27f86",
   "metadata": {},
   "outputs": [],
   "source": [
    "# calculate random forest for different number of forests/ different split measurements"
   ]
  },
  {
   "cell_type": "code",
   "execution_count": 75,
   "id": "65321c8f-8fcb-4754-bcab-3f29cbcc2f07",
   "metadata": {},
   "outputs": [],
   "source": [
    "# plot random forest"
   ]
  }
 ],
 "metadata": {
  "kernelspec": {
   "display_name": "Python 3 (ipykernel)",
   "language": "python",
   "name": "python3"
  },
  "language_info": {
   "codemirror_mode": {
    "name": "ipython",
    "version": 3
   },
   "file_extension": ".py",
   "mimetype": "text/x-python",
   "name": "python",
   "nbconvert_exporter": "python",
   "pygments_lexer": "ipython3",
   "version": "3.9.1"
  }
 },
 "nbformat": 4,
 "nbformat_minor": 5
}
